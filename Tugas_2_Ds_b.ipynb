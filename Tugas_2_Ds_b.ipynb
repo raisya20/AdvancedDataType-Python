{
  "cells": [
    {
      "cell_type": "markdown",
      "source": [
        "\n",
        "# **Data Structure In Python**\n"
      ],
      "metadata": {
        "id": "Bp3GXtSifwzP"
      }
    },
    {
      "cell_type": "markdown",
      "source": [
        "## **List**"
      ],
      "metadata": {
        "id": "9OiP3dlEg81b"
      }
    },
    {
      "cell_type": "markdown",
      "source": [
        "List is an orderly or organized data structure\n",
        "and mutable, lists allow duplicate or duplicate data.\n",
        "In python lists use square brackets \"[]\"."
      ],
      "metadata": {
        "id": "UkoQJjnE9TDE"
      }
    },
    {
      "cell_type": "markdown",
      "source": [
        "### Accessing data on the List\n",
        "In addition, to access certain data, the syntax can be changed\n",
        "by replacing the index number, here is an example\n",
        "access multiple data at once using index on list:\n"
      ],
      "metadata": {
        "id": "lfbsajE19mT1"
      }
    },
    {
      "cell_type": "code",
      "source": [
        "bu = [7,8.6,\"mentor\",788,87,\"student\",1100,3.14,8880,\"banana\"]"
      ],
      "metadata": {
        "id": "cG55gI_yg23Y"
      },
      "execution_count": null,
      "outputs": []
    },
    {
      "cell_type": "code",
      "source": [
        "print(bu)"
      ],
      "metadata": {
        "colab": {
          "base_uri": "https://localhost:8080/"
        },
        "id": "Z-xwCxrVg3VE",
        "outputId": "9059bc59-09f2-49af-df9b-c6ebcf1970af"
      },
      "execution_count": null,
      "outputs": [
        {
          "output_type": "stream",
          "name": "stdout",
          "text": [
            "[7, 8.6, 'mentor', 788, 87, 'student', 1100, 3.14, 8880, 'banana']\n"
          ]
        }
      ]
    },
    {
      "cell_type": "code",
      "source": [
        "print(len(bu))"
      ],
      "metadata": {
        "colab": {
          "base_uri": "https://localhost:8080/"
        },
        "id": "ua9GQrmmg3fD",
        "outputId": "3edb2dbe-3aad-447e-dc40-e0eacc76bb7a"
      },
      "execution_count": null,
      "outputs": [
        {
          "output_type": "stream",
          "name": "stdout",
          "text": [
            "10\n"
          ]
        }
      ]
    },
    {
      "cell_type": "code",
      "source": [
        "print(bu[1])"
      ],
      "metadata": {
        "colab": {
          "base_uri": "https://localhost:8080/"
        },
        "id": "enbXUNo_g3jl",
        "outputId": "9c601353-e3e3-40ba-fb62-9815e0e2657e"
      },
      "execution_count": null,
      "outputs": [
        {
          "output_type": "stream",
          "name": "stdout",
          "text": [
            "8.6\n"
          ]
        }
      ]
    },
    {
      "cell_type": "code",
      "source": [
        "print(bu[-1])"
      ],
      "metadata": {
        "colab": {
          "base_uri": "https://localhost:8080/"
        },
        "id": "sDe3uuS7g3oO",
        "outputId": "a796b9dd-cfe5-4ac9-c4d2-7ae2809972c6"
      },
      "execution_count": null,
      "outputs": [
        {
          "output_type": "stream",
          "name": "stdout",
          "text": [
            "banana\n"
          ]
        }
      ]
    },
    {
      "cell_type": "code",
      "source": [
        "print(bu[2:5])"
      ],
      "metadata": {
        "colab": {
          "base_uri": "https://localhost:8080/"
        },
        "id": "G8od0KIdg32m",
        "outputId": "5d48414d-72da-41c9-a3b6-12e272db5deb"
      },
      "execution_count": null,
      "outputs": [
        {
          "output_type": "stream",
          "name": "stdout",
          "text": [
            "['mentor', 788, 87]\n"
          ]
        }
      ]
    },
    {
      "cell_type": "code",
      "source": [
        "print(bu[:4])"
      ],
      "metadata": {
        "colab": {
          "base_uri": "https://localhost:8080/"
        },
        "id": "dT4vPne5g4Qy",
        "outputId": "b33093dc-2487-405c-b9e6-d6b22237f362"
      },
      "execution_count": null,
      "outputs": [
        {
          "output_type": "stream",
          "name": "stdout",
          "text": [
            "[7, 8.6, 'mentor', 788]\n"
          ]
        }
      ]
    },
    {
      "cell_type": "code",
      "source": [
        "print(bu[2:])"
      ],
      "metadata": {
        "colab": {
          "base_uri": "https://localhost:8080/"
        },
        "id": "6M3Gw2Idhs8l",
        "outputId": "d52e7864-2229-4f38-982b-ee1070826320"
      },
      "execution_count": null,
      "outputs": [
        {
          "output_type": "stream",
          "name": "stdout",
          "text": [
            "['mentor', 788, 87, 'student', 1100, 3.14, 8880, 'banana']\n"
          ]
        }
      ]
    },
    {
      "cell_type": "code",
      "source": [
        "bu[2] = \"blackcurrant\""
      ],
      "metadata": {
        "id": "h0OTkrNwhuef"
      },
      "execution_count": null,
      "outputs": []
    },
    {
      "cell_type": "code",
      "source": [
        "print(bu)"
      ],
      "metadata": {
        "colab": {
          "base_uri": "https://localhost:8080/"
        },
        "id": "b7s7IZbwhupv",
        "outputId": "f674b03e-9473-4795-9d91-bd8a48c43293"
      },
      "execution_count": null,
      "outputs": [
        {
          "output_type": "stream",
          "name": "stdout",
          "text": [
            "[7, 8.6, 'blackcurrant', 788, 87, 'student', 1100, 3.14, 8880, 'banana']\n"
          ]
        }
      ]
    },
    {
      "cell_type": "code",
      "source": [
        "bu[1:3] = [\"watermelon\"]"
      ],
      "metadata": {
        "id": "Autgerwehxcu"
      },
      "execution_count": null,
      "outputs": []
    },
    {
      "cell_type": "markdown",
      "source": [
        "From the source code above it will output a new list with\n",
        "the following conditions:\n",
        "\n",
        "\n",
        "\n",
        "*   Will access or select items from position 2 to 5\n",
        "\n",
        "*   Jika tidak diberi nilai awal maka range akan dimulai \n",
        "dari data paling pertama. Misal “print(bu[:10])” \n",
        "akan membuat output mulai dari data pertama \n",
        "sampai ke-10\n",
        "*   If not given a final value then the range will be\n",
        "starting with the very first data, for example\n",
        "“print(bu[8:])” will make output starting from\n",
        "2nd data to the last data.\n",
        "\n",
        "\n",
        "\n",
        "\n"
      ],
      "metadata": {
        "id": "aA7ZXiFd-Eod"
      }
    },
    {
      "cell_type": "code",
      "source": [
        "bu.insert(2, \"watermelon\")"
      ],
      "metadata": {
        "id": "8DrnMkT1hxh9"
      },
      "execution_count": null,
      "outputs": []
    },
    {
      "cell_type": "code",
      "source": [
        "du = [8, \"pineapple\", 8.98]"
      ],
      "metadata": {
        "id": "9--eXSOChxnt"
      },
      "execution_count": null,
      "outputs": []
    },
    {
      "cell_type": "code",
      "source": [
        "print(bu)"
      ],
      "metadata": {
        "colab": {
          "base_uri": "https://localhost:8080/"
        },
        "id": "6eqHCLjBiFiq",
        "outputId": "b54f8595-377c-408c-9303-051887ea05d5"
      },
      "execution_count": null,
      "outputs": [
        {
          "output_type": "stream",
          "name": "stdout",
          "text": [
            "[7, 'watermelon', 'watermelon', 788, 87, 'student', 1100, 3.14, 8880, 'banana']\n"
          ]
        }
      ]
    },
    {
      "cell_type": "code",
      "source": [
        "cu=du+bu\n",
        "print(cu)"
      ],
      "metadata": {
        "colab": {
          "base_uri": "https://localhost:8080/"
        },
        "id": "KiIFaDhBh4bB",
        "outputId": "bad7ff01-ab8f-4468-9699-b4b230bd358a"
      },
      "execution_count": null,
      "outputs": [
        {
          "output_type": "stream",
          "name": "stdout",
          "text": [
            "[8, 'pineapple', 8.98, 7, 'watermelon', 'watermelon', 788, 87, 'student', 1100, 3.14, 8880, 'banana']\n"
          ]
        }
      ]
    },
    {
      "cell_type": "code",
      "source": [
        "bu.extend(du)"
      ],
      "metadata": {
        "id": "nXnGahTViC4e"
      },
      "execution_count": null,
      "outputs": []
    },
    {
      "cell_type": "code",
      "source": [
        "print(bu)"
      ],
      "metadata": {
        "colab": {
          "base_uri": "https://localhost:8080/"
        },
        "id": "ieGtaVW2iH1o",
        "outputId": "7279ffc5-0ca6-4231-edb3-6acfa71bbd8f"
      },
      "execution_count": null,
      "outputs": [
        {
          "output_type": "stream",
          "name": "stdout",
          "text": [
            "[7, 'watermelon', 'watermelon', 788, 87, 'student', 1100, 3.14, 8880, 'banana', 8, 'pineapple', 8.98]\n"
          ]
        }
      ]
    },
    {
      "cell_type": "code",
      "source": [
        "bu.remove(\"student\")"
      ],
      "metadata": {
        "id": "82Q9zrEuiJF7"
      },
      "execution_count": null,
      "outputs": []
    },
    {
      "cell_type": "code",
      "source": [
        "print(bu)"
      ],
      "metadata": {
        "colab": {
          "base_uri": "https://localhost:8080/"
        },
        "id": "eyyf0GFaiKe9",
        "outputId": "f460418c-00be-4a3f-a879-036039ab4ee2"
      },
      "execution_count": null,
      "outputs": [
        {
          "output_type": "stream",
          "name": "stdout",
          "text": [
            "[7, 'watermelon', 'watermelon', 788, 87, 1100, 3.14, 8880, 'banana', 8, 'pineapple', 8.98]\n"
          ]
        }
      ]
    },
    {
      "cell_type": "code",
      "source": [
        "bu.pop(1)"
      ],
      "metadata": {
        "colab": {
          "base_uri": "https://localhost:8080/",
          "height": 34
        },
        "id": "xyf2tCXEiL5A",
        "outputId": "b7a56209-8d1a-4bb2-dc0c-5031a010e5bf"
      },
      "execution_count": null,
      "outputs": [
        {
          "output_type": "execute_result",
          "data": {
            "text/plain": [
              "'watermelon'"
            ],
            "application/vnd.google.colaboratory.intrinsic+json": {
              "type": "string"
            }
          },
          "metadata": {},
          "execution_count": 120
        }
      ]
    },
    {
      "cell_type": "code",
      "source": [
        "print(bu)"
      ],
      "metadata": {
        "colab": {
          "base_uri": "https://localhost:8080/"
        },
        "id": "htE8T6dziMY9",
        "outputId": "9101c81c-1eda-4611-92bd-ba76f88fba3f"
      },
      "execution_count": null,
      "outputs": [
        {
          "output_type": "stream",
          "name": "stdout",
          "text": [
            "[7, 'watermelon', 788, 87, 1100, 3.14, 8880, 'banana', 8, 'pineapple', 8.98]\n"
          ]
        }
      ]
    },
    {
      "cell_type": "code",
      "source": [
        "bu.pop()"
      ],
      "metadata": {
        "colab": {
          "base_uri": "https://localhost:8080/"
        },
        "id": "1UGpW-qLiP9Q",
        "outputId": "4d6642d5-4bcf-45d7-f507-c37dbf643199"
      },
      "execution_count": null,
      "outputs": [
        {
          "output_type": "execute_result",
          "data": {
            "text/plain": [
              "8.98"
            ]
          },
          "metadata": {},
          "execution_count": 122
        }
      ]
    },
    {
      "cell_type": "code",
      "source": [
        "del bu[4]"
      ],
      "metadata": {
        "id": "YoY0XsMuiQ-q"
      },
      "execution_count": null,
      "outputs": []
    },
    {
      "cell_type": "code",
      "source": [
        "print(bu)"
      ],
      "metadata": {
        "colab": {
          "base_uri": "https://localhost:8080/"
        },
        "id": "7rVAcYOWiTIJ",
        "outputId": "b31cfb3f-9c94-4f59-d212-4d5bc63dbd6e"
      },
      "execution_count": null,
      "outputs": [
        {
          "output_type": "stream",
          "name": "stdout",
          "text": [
            "[7, 'watermelon', 788, 87, 3.14, 8880, 'banana', 8, 'pineapple']\n"
          ]
        }
      ]
    },
    {
      "cell_type": "code",
      "source": [
        "bu.reverse()"
      ],
      "metadata": {
        "id": "8Tm1U1a6iUfr"
      },
      "execution_count": null,
      "outputs": []
    },
    {
      "cell_type": "code",
      "source": [
        "list = [100, 50, 65, 82, 23]"
      ],
      "metadata": {
        "id": "sQ3fUXV6iVjA"
      },
      "execution_count": null,
      "outputs": []
    },
    {
      "cell_type": "code",
      "source": [
        "list.sort()"
      ],
      "metadata": {
        "id": "U2J2OjcRiX8Q"
      },
      "execution_count": null,
      "outputs": []
    },
    {
      "cell_type": "code",
      "source": [
        "print(list)"
      ],
      "metadata": {
        "colab": {
          "base_uri": "https://localhost:8080/"
        },
        "id": "OENnkD2jiZHc",
        "outputId": "20081c2e-bbc2-4786-e5b1-87ccfe4aab8f"
      },
      "execution_count": null,
      "outputs": [
        {
          "output_type": "stream",
          "name": "stdout",
          "text": [
            "[23, 50, 65, 82, 100]\n"
          ]
        }
      ]
    },
    {
      "cell_type": "code",
      "source": [
        "print(type(list))"
      ],
      "metadata": {
        "colab": {
          "base_uri": "https://localhost:8080/"
        },
        "id": "Hxsz2Xy3iaay",
        "outputId": "870b9d20-b593-4941-c3f6-cf0b6cff024c"
      },
      "execution_count": null,
      "outputs": [
        {
          "output_type": "stream",
          "name": "stdout",
          "text": [
            "<class 'list'>\n"
          ]
        }
      ]
    },
    {
      "cell_type": "markdown",
      "source": [
        "Adding data to the list\n",
        "To add data to the list, you can:\n",
        "using the .append() function,Removing data from the list\n",
        "To delete data from the list, you can use\n",
        "function .remove(),Merge two lists into one,Sort the data in the list and more in the above function"
      ],
      "metadata": {
        "id": "i5tBekZQ_u4a"
      }
    },
    {
      "cell_type": "markdown",
      "source": [
        "## **Tuple**"
      ],
      "metadata": {
        "id": "kDGkIXtii6V0"
      }
    },
    {
      "cell_type": "markdown",
      "source": [
        "A tuple is a data structure similar to a list.\n",
        "Tuples can contain various data types, and their elements have indexes. Elements of a tuple\n",
        "separated by a comma. In Python, tuples are written\n",
        "Use brackets \"()\". There are two general types of tuples that can be formed.\n",
        "That is, a tuple with one data type and a tuple with a data type\n",
        "mixture. To better understand how to make both\n",
        "the tuple form, consider the following source code; tuple\n",
        "with one data type:"
      ],
      "metadata": {
        "id": "NhfhYyvIAybU"
      }
    },
    {
      "cell_type": "code",
      "source": [
        "n = (5,3,\"table\",5.5,8,10,20,\"chair\",32,41)"
      ],
      "metadata": {
        "id": "DpYyAow_rlp7"
      },
      "execution_count": null,
      "outputs": []
    },
    {
      "cell_type": "markdown",
      "source": [
        "Tuples are immutable. What it means is that we can't change\n",
        "elements of the tuple after initialization. To access each element\n",
        "in a tuple, we use index. There is 1 way to access\n",
        "elements in a tuple, including the following:"
      ],
      "metadata": {
        "id": "fd5tc0LDBGIA"
      }
    },
    {
      "cell_type": "code",
      "source": [
        "print(n[1])"
      ],
      "metadata": {
        "colab": {
          "base_uri": "https://localhost:8080/"
        },
        "id": "Bfo2pFyrroMc",
        "outputId": "e3b85837-2a33-4b36-9c3c-cd47e8168b0b"
      },
      "execution_count": null,
      "outputs": [
        {
          "output_type": "stream",
          "name": "stdout",
          "text": [
            "3\n"
          ]
        }
      ]
    },
    {
      "cell_type": "code",
      "source": [
        "print(n[0:2])"
      ],
      "metadata": {
        "colab": {
          "base_uri": "https://localhost:8080/"
        },
        "id": "FI1kaOUErq51",
        "outputId": "0923f467-d995-4c01-f94d-176faa8daca8"
      },
      "execution_count": null,
      "outputs": [
        {
          "output_type": "stream",
          "name": "stdout",
          "text": [
            "(5, 3)\n"
          ]
        }
      ]
    },
    {
      "cell_type": "code",
      "source": [
        "print(type(n))"
      ],
      "metadata": {
        "colab": {
          "base_uri": "https://localhost:8080/"
        },
        "id": "oXScEuIprt3M",
        "outputId": "ac2683da-aa18-4595-c010-b25b9aef0d12"
      },
      "execution_count": null,
      "outputs": [
        {
          "output_type": "stream",
          "name": "stdout",
          "text": [
            "<class 'tuple'>\n"
          ]
        }
      ]
    },
    {
      "cell_type": "markdown",
      "source": [
        "when using the command to replace a variable in the use of tuples, the process of the system will not run, this is because the tuple itself has a list type that cannot be changed or replaced. as follows:"
      ],
      "metadata": {
        "id": "K6KvbWuSAjPk"
      }
    },
    {
      "cell_type": "markdown",
      "source": [
        "## **SET**"
      ],
      "metadata": {
        "id": "iYapB9OosB3P"
      }
    },
    {
      "cell_type": "markdown",
      "source": [
        "A set is a data structure that is disorganized or organized\n",
        "and has no index thus making it inaccessible\n",
        "by using index, on set not allow member\n",
        "duplicate or duplicate. In python set is usually used for\n",
        "perform mathematical set operations such as joins, slices,\n",
        "difference, etc. Sets are written using curly brackets \"{}\".\n",
        "In addition, the data in a set cannot be changed after\n",
        "set is created, but can add data or delete data in\n",
        "a set."
      ],
      "metadata": {
        "id": "1AMcGfWzBZaB"
      }
    },
    {
      "cell_type": "code",
      "source": [
        "i={2,2,\"a\",\"y\",\"a\",\"m\",10,10,9,2}\n",
        "print(i)"
      ],
      "metadata": {
        "colab": {
          "base_uri": "https://localhost:8080/"
        },
        "id": "5VmC-Lw8sHCd",
        "outputId": "ae778e4d-7f47-4fcb-ca4b-49aeae87c045"
      },
      "execution_count": null,
      "outputs": [
        {
          "output_type": "stream",
          "name": "stdout",
          "text": [
            "{2, 9, 10, 'm', 'a', 'y'}\n"
          ]
        }
      ]
    },
    {
      "cell_type": "code",
      "source": [
        "print(type(i))"
      ],
      "metadata": {
        "colab": {
          "base_uri": "https://localhost:8080/"
        },
        "id": "gBD0gS-nsJMq",
        "outputId": "27181f87-bba5-4c50-bd71-fdda9b2fe505"
      },
      "execution_count": null,
      "outputs": [
        {
          "output_type": "stream",
          "name": "stdout",
          "text": [
            "<class 'set'>\n"
          ]
        }
      ]
    },
    {
      "cell_type": "code",
      "source": [
        "i.add(\"u\")\n",
        "print(i)"
      ],
      "metadata": {
        "colab": {
          "base_uri": "https://localhost:8080/"
        },
        "id": "34rbfTxhsMqq",
        "outputId": "e83a93c8-0cda-4e19-8d3b-9fa4e1677c03"
      },
      "execution_count": null,
      "outputs": [
        {
          "output_type": "stream",
          "name": "stdout",
          "text": [
            "{2, 9, 10, 'm', 'u', 'a', 'y'}\n"
          ]
        }
      ]
    },
    {
      "cell_type": "code",
      "source": [
        "i.update([\"t\",3])\n",
        "print(i)"
      ],
      "metadata": {
        "colab": {
          "base_uri": "https://localhost:8080/"
        },
        "id": "dPbUrk4XsN5i",
        "outputId": "e48789a1-8b9a-46e3-e2e4-4e54f6cd0258"
      },
      "execution_count": null,
      "outputs": [
        {
          "output_type": "stream",
          "name": "stdout",
          "text": [
            "{2, 3, 't', 9, 10, 'm', 'u', 'a', 'y'}\n"
          ]
        }
      ]
    },
    {
      "cell_type": "code",
      "source": [
        "i.remove(\"a\")\n",
        "print(i)"
      ],
      "metadata": {
        "colab": {
          "base_uri": "https://localhost:8080/"
        },
        "id": "A0KgaUJWsPJX",
        "outputId": "a983aea0-f386-426f-a908-bdda6460effd"
      },
      "execution_count": null,
      "outputs": [
        {
          "output_type": "stream",
          "name": "stdout",
          "text": [
            "{2, 3, 't', 9, 10, 'm', 'u', 'y'}\n"
          ]
        }
      ]
    },
    {
      "cell_type": "code",
      "source": [
        "i.pop()\n",
        "print(i)"
      ],
      "metadata": {
        "colab": {
          "base_uri": "https://localhost:8080/"
        },
        "id": "rIhq6puasQb9",
        "outputId": "fcb510e9-df01-4c57-b665-6c64085539b6"
      },
      "execution_count": null,
      "outputs": [
        {
          "output_type": "stream",
          "name": "stdout",
          "text": [
            "{3, 't', 9, 10, 'm', 'u', 'y'}\n"
          ]
        }
      ]
    },
    {
      "cell_type": "code",
      "source": [
        "i.clear()\n",
        "print(i)"
      ],
      "metadata": {
        "colab": {
          "base_uri": "https://localhost:8080/"
        },
        "id": "R2YqoeHOsSGd",
        "outputId": "f05235a7-52b2-4aac-907b-85aa035771ea"
      },
      "execution_count": null,
      "outputs": [
        {
          "output_type": "stream",
          "name": "stdout",
          "text": [
            "set()\n"
          ]
        }
      ]
    },
    {
      "cell_type": "markdown",
      "source": [
        "## **Dictionary**"
      ],
      "metadata": {
        "id": "8-HvSFcaskZE"
      }
    },
    {
      "cell_type": "markdown",
      "source": [
        "Dictionary is a more complex data structure than\n",
        "everything else (list, tuple, set). What distinguishes a dictionary from\n",
        "Another data structure is that the elements in the dictionary are pairs\n",
        "keys and values. As for other data structures, it is only the value of\n",
        "single.dictionary if interpreted in Indonesian means\n",
        "dictionary. The concept in programming is also the same as when we\n",
        "using a dictionary in the real world, we will look up words with\n",
        "a keyword that is the alphabet located on a dictionary sheet. On\n",
        "In Python we find the value of a dictionary element with\n",
        "based on the key that is connected to the value we are looking for.\n",
        "Keys in a dictionary can be of any data type. Can\n",
        "use integers or strings. Take a look at the manufacturing example\n",
        "a dictionary below:"
      ],
      "metadata": {
        "id": "TXsDmIu9Bkx5"
      }
    },
    {
      "cell_type": "code",
      "source": [
        "biodata= {\"name\":\"Heru Stiawan\",\"age\":21,\"address\":\"Jl. Pemuda, Mojoroto, Kediri\",\n",
        "\"tall\":165.5,\"weight\":67,\"education\":\"University Nusantara PGRI Kediri\",\n",
        "    \"major\":\"Information Systems\",\"NPM\":1912234,\"hobby\":[\"eat\",\"traveling\"],\"ambition\":[\"becomes  a successful person \",\"becomes a useful person\"]}"
      ],
      "metadata": {
        "id": "CtN6JlIwsqdi"
      },
      "execution_count": null,
      "outputs": []
    },
    {
      "cell_type": "code",
      "source": [
        "biodata[\"name\"]"
      ],
      "metadata": {
        "colab": {
          "base_uri": "https://localhost:8080/",
          "height": 34
        },
        "id": "8etTjp035G6d",
        "outputId": "dbe2787f-4262-428f-8a08-d4086842102e"
      },
      "execution_count": null,
      "outputs": [
        {
          "output_type": "execute_result",
          "data": {
            "text/plain": [
              "'Heru Stiawan'"
            ],
            "application/vnd.google.colaboratory.intrinsic+json": {
              "type": "string"
            }
          },
          "metadata": {},
          "execution_count": 142
        }
      ]
    },
    {
      "cell_type": "code",
      "source": [
        "biodata[\"age\"]\n"
      ],
      "metadata": {
        "colab": {
          "base_uri": "https://localhost:8080/"
        },
        "id": "jDD3M3gS5Ike",
        "outputId": "e5b19599-1010-4cdf-ba72-537d90445005"
      },
      "execution_count": null,
      "outputs": [
        {
          "output_type": "execute_result",
          "data": {
            "text/plain": [
              "21"
            ]
          },
          "metadata": {},
          "execution_count": 143
        }
      ]
    },
    {
      "cell_type": "code",
      "source": [
        "biodata[\"address\"]"
      ],
      "metadata": {
        "colab": {
          "base_uri": "https://localhost:8080/",
          "height": 34
        },
        "id": "GXA1KeM65KNc",
        "outputId": "31b476e3-709e-4d28-c9f6-60b710cb9f2c"
      },
      "execution_count": null,
      "outputs": [
        {
          "output_type": "execute_result",
          "data": {
            "text/plain": [
              "'Jl. Pemuda, Mojoroto, Kediri'"
            ],
            "application/vnd.google.colaboratory.intrinsic+json": {
              "type": "string"
            }
          },
          "metadata": {},
          "execution_count": 144
        }
      ]
    },
    {
      "cell_type": "code",
      "source": [
        "biodata[\"tall\"]"
      ],
      "metadata": {
        "colab": {
          "base_uri": "https://localhost:8080/"
        },
        "id": "BRe0OohF5KZW",
        "outputId": "08070d93-3ed4-4861-ba37-fdf58cb489a4"
      },
      "execution_count": null,
      "outputs": [
        {
          "output_type": "execute_result",
          "data": {
            "text/plain": [
              "165.5"
            ]
          },
          "metadata": {},
          "execution_count": 145
        }
      ]
    },
    {
      "cell_type": "code",
      "source": [
        "biodata[\"weight\"]"
      ],
      "metadata": {
        "colab": {
          "base_uri": "https://localhost:8080/"
        },
        "id": "rcDNY6on5KkB",
        "outputId": "70cac6ed-9b0a-49ab-f0ae-5047a24481d0"
      },
      "execution_count": null,
      "outputs": [
        {
          "output_type": "execute_result",
          "data": {
            "text/plain": [
              "67"
            ]
          },
          "metadata": {},
          "execution_count": 146
        }
      ]
    },
    {
      "cell_type": "code",
      "source": [
        "biodata[\"education\"]"
      ],
      "metadata": {
        "colab": {
          "base_uri": "https://localhost:8080/",
          "height": 34
        },
        "id": "0wbdPF_h5Kty",
        "outputId": "292d4446-eef5-4adc-900b-83ea7bacda12"
      },
      "execution_count": null,
      "outputs": [
        {
          "output_type": "execute_result",
          "data": {
            "text/plain": [
              "'University Nusantara PGRI Kediri'"
            ],
            "application/vnd.google.colaboratory.intrinsic+json": {
              "type": "string"
            }
          },
          "metadata": {},
          "execution_count": 147
        }
      ]
    },
    {
      "cell_type": "code",
      "source": [
        "biodata[\"major\"]"
      ],
      "metadata": {
        "colab": {
          "base_uri": "https://localhost:8080/",
          "height": 34
        },
        "id": "t7dEkXmS5K3T",
        "outputId": "9d285288-b684-445d-8969-607e48ed20f2"
      },
      "execution_count": null,
      "outputs": [
        {
          "output_type": "execute_result",
          "data": {
            "text/plain": [
              "'Information Systems'"
            ],
            "application/vnd.google.colaboratory.intrinsic+json": {
              "type": "string"
            }
          },
          "metadata": {},
          "execution_count": 148
        }
      ]
    },
    {
      "cell_type": "code",
      "source": [
        "biodata[\"NPM\"]"
      ],
      "metadata": {
        "colab": {
          "base_uri": "https://localhost:8080/"
        },
        "id": "KcjqmRpB5LAI",
        "outputId": "7d881158-e8a2-48fe-f378-d937349627c2"
      },
      "execution_count": null,
      "outputs": [
        {
          "output_type": "execute_result",
          "data": {
            "text/plain": [
              "1912234"
            ]
          },
          "metadata": {},
          "execution_count": 149
        }
      ]
    },
    {
      "cell_type": "code",
      "source": [
        "biodata[\"hobby\"]"
      ],
      "metadata": {
        "colab": {
          "base_uri": "https://localhost:8080/"
        },
        "id": "Kkl7W00T5LJ6",
        "outputId": "2039bc13-a944-442b-84b1-19cdef56dc11"
      },
      "execution_count": null,
      "outputs": [
        {
          "output_type": "execute_result",
          "data": {
            "text/plain": [
              "['eat', 'traveling']"
            ]
          },
          "metadata": {},
          "execution_count": 150
        }
      ]
    },
    {
      "cell_type": "code",
      "source": [
        "biodata[\"ambition\"]"
      ],
      "metadata": {
        "colab": {
          "base_uri": "https://localhost:8080/"
        },
        "id": "YRTuDgLY5LT7",
        "outputId": "d94c4efd-b27f-43ad-da98-f3974b17de20"
      },
      "execution_count": null,
      "outputs": [
        {
          "output_type": "execute_result",
          "data": {
            "text/plain": [
              "['becomes  a successful person ', 'becomes a useful person']"
            ]
          },
          "metadata": {},
          "execution_count": 151
        }
      ]
    },
    {
      "cell_type": "code",
      "source": [
        "type(3.5)"
      ],
      "metadata": {
        "colab": {
          "base_uri": "https://localhost:8080/"
        },
        "id": "CnNCyw7I5LgL",
        "outputId": "b37b2803-7b4d-4ae2-dcb5-76547a951c09"
      },
      "execution_count": null,
      "outputs": [
        {
          "output_type": "execute_result",
          "data": {
            "text/plain": [
              "float"
            ]
          },
          "metadata": {},
          "execution_count": 152
        }
      ]
    },
    {
      "cell_type": "code",
      "source": [
        "int(3.5)"
      ],
      "metadata": {
        "colab": {
          "base_uri": "https://localhost:8080/"
        },
        "id": "ccyP9C6r5LqT",
        "outputId": "edc8b324-c686-4850-c87c-0022b3f81d0a"
      },
      "execution_count": null,
      "outputs": [
        {
          "output_type": "execute_result",
          "data": {
            "text/plain": [
              "3"
            ]
          },
          "metadata": {},
          "execution_count": 153
        }
      ]
    },
    {
      "cell_type": "code",
      "source": [
        "type(int(3.5))"
      ],
      "metadata": {
        "colab": {
          "base_uri": "https://localhost:8080/"
        },
        "id": "UOmJEM9U5L1q",
        "outputId": "01618d10-f2dd-448d-e953-d5515b3fee8b"
      },
      "execution_count": null,
      "outputs": [
        {
          "output_type": "execute_result",
          "data": {
            "text/plain": [
              "int"
            ]
          },
          "metadata": {},
          "execution_count": 154
        }
      ]
    },
    {
      "cell_type": "code",
      "source": [
        "str(4.5)"
      ],
      "metadata": {
        "colab": {
          "base_uri": "https://localhost:8080/",
          "height": 34
        },
        "id": "jIWF1E2k5MBw",
        "outputId": "4baca595-b5de-475f-c8e3-964bdf86de42"
      },
      "execution_count": null,
      "outputs": [
        {
          "output_type": "execute_result",
          "data": {
            "text/plain": [
              "'4.5'"
            ],
            "application/vnd.google.colaboratory.intrinsic+json": {
              "type": "string"
            }
          },
          "metadata": {},
          "execution_count": 155
        }
      ]
    },
    {
      "cell_type": "code",
      "source": [
        "type(10)"
      ],
      "metadata": {
        "colab": {
          "base_uri": "https://localhost:8080/"
        },
        "id": "KbcDGjAp5hZd",
        "outputId": "410dda54-77cd-432e-aa34-26c3b94dcfc9"
      },
      "execution_count": null,
      "outputs": [
        {
          "output_type": "execute_result",
          "data": {
            "text/plain": [
              "int"
            ]
          },
          "metadata": {},
          "execution_count": 156
        }
      ]
    },
    {
      "cell_type": "code",
      "source": [
        "float(10)"
      ],
      "metadata": {
        "colab": {
          "base_uri": "https://localhost:8080/"
        },
        "id": "4D3TWDuS5jl2",
        "outputId": "d1baef4d-d152-41d9-ec16-f78d5e7b332f"
      },
      "execution_count": null,
      "outputs": [
        {
          "output_type": "execute_result",
          "data": {
            "text/plain": [
              "10.0"
            ]
          },
          "metadata": {},
          "execution_count": 157
        }
      ]
    },
    {
      "cell_type": "code",
      "source": [
        "type(float(10))"
      ],
      "metadata": {
        "colab": {
          "base_uri": "https://localhost:8080/"
        },
        "id": "aijuwiFv5kwC",
        "outputId": "b10a3265-b145-4c3d-e8e0-d7b680fba583"
      },
      "execution_count": null,
      "outputs": [
        {
          "output_type": "execute_result",
          "data": {
            "text/plain": [
              "float"
            ]
          },
          "metadata": {},
          "execution_count": 158
        }
      ]
    },
    {
      "cell_type": "code",
      "source": [
        "str(20)"
      ],
      "metadata": {
        "colab": {
          "base_uri": "https://localhost:8080/",
          "height": 34
        },
        "id": "FAX55T_P5mGJ",
        "outputId": "cf71229e-d750-47a5-c43d-fe5f1d25f6d2"
      },
      "execution_count": null,
      "outputs": [
        {
          "output_type": "execute_result",
          "data": {
            "text/plain": [
              "'20'"
            ],
            "application/vnd.google.colaboratory.intrinsic+json": {
              "type": "string"
            }
          },
          "metadata": {},
          "execution_count": 159
        }
      ]
    },
    {
      "cell_type": "code",
      "source": [
        "type(str(20))"
      ],
      "metadata": {
        "colab": {
          "base_uri": "https://localhost:8080/"
        },
        "id": "6VyDlGld5nPi",
        "outputId": "65d5a530-349c-4e04-c006-70dfda6a86e5"
      },
      "execution_count": null,
      "outputs": [
        {
          "output_type": "execute_result",
          "data": {
            "text/plain": [
              "str"
            ]
          },
          "metadata": {},
          "execution_count": 160
        }
      ]
    },
    {
      "cell_type": "code",
      "source": [
        "biodata.keys()"
      ],
      "metadata": {
        "colab": {
          "base_uri": "https://localhost:8080/"
        },
        "id": "0qh3r6WP5pts",
        "outputId": "c6872b08-fa2b-4074-d75e-f17ed9fa54ac"
      },
      "execution_count": null,
      "outputs": [
        {
          "output_type": "execute_result",
          "data": {
            "text/plain": [
              "dict_keys(['name', 'age', 'address', 'tall', 'weight', 'education', 'major', 'NPM', 'hobby', 'ambition'])"
            ]
          },
          "metadata": {},
          "execution_count": 161
        }
      ]
    },
    {
      "cell_type": "code",
      "source": [
        "biodata.values()"
      ],
      "metadata": {
        "colab": {
          "base_uri": "https://localhost:8080/"
        },
        "id": "W8eZFzf65q_w",
        "outputId": "5a380319-06be-48fe-cb25-a0c2304f72cf"
      },
      "execution_count": null,
      "outputs": [
        {
          "output_type": "execute_result",
          "data": {
            "text/plain": [
              "dict_values(['Heru Stiawan', 21, 'Jl. Pemuda, Mojoroto, Kediri', 165.5, 67, 'University Nusantara PGRI Kediri', 'Information Systems', 1912234, ['eat', 'traveling'], ['becomes  a successful person ', 'becomes a useful person']])"
            ]
          },
          "metadata": {},
          "execution_count": 162
        }
      ]
    },
    {
      "cell_type": "code",
      "source": [
        "biodata.items()"
      ],
      "metadata": {
        "colab": {
          "base_uri": "https://localhost:8080/"
        },
        "id": "vfUySWgr5sN1",
        "outputId": "109d5121-58f8-48df-c813-d3e5c8146fea"
      },
      "execution_count": null,
      "outputs": [
        {
          "output_type": "execute_result",
          "data": {
            "text/plain": [
              "dict_items([('name', 'Heru Stiawan'), ('age', 21), ('address', 'Jl. Pemuda, Mojoroto, Kediri'), ('tall', 165.5), ('weight', 67), ('education', 'University Nusantara PGRI Kediri'), ('major', 'Information Systems'), ('NPM', 1912234), ('hobby', ['eat', 'traveling']), ('ambition', ['becomes  a successful person ', 'becomes a useful person'])])"
            ]
          },
          "metadata": {},
          "execution_count": 163
        }
      ]
    },
    {
      "cell_type": "code",
      "source": [
        "biodata.update({'age': 20})\n",
        "print(biodata)"
      ],
      "metadata": {
        "colab": {
          "base_uri": "https://localhost:8080/"
        },
        "id": "YPz3O7El5tTy",
        "outputId": "c6d785aa-c4a5-4436-e82b-e7f9f70121d2"
      },
      "execution_count": null,
      "outputs": [
        {
          "output_type": "stream",
          "name": "stdout",
          "text": [
            "{'name': 'Heru Stiawan', 'age': 20, 'address': 'Jl. Pemuda, Mojoroto, Kediri', 'tall': 165.5, 'weight': 67, 'education': 'University Nusantara PGRI Kediri', 'major': 'Information Systems', 'NPM': 1912234, 'hobby': ['eat', 'traveling'], 'ambition': ['becomes  a successful person ', 'becomes a useful person']}\n"
          ]
        }
      ]
    },
    {
      "cell_type": "code",
      "source": [
        "biodata[\"favolit_color\"] = \"red\"\n",
        "biodata[\"status\"] = \"single\"\n",
        "print(biodata)"
      ],
      "metadata": {
        "colab": {
          "base_uri": "https://localhost:8080/"
        },
        "id": "bExjKX_-5uoK",
        "outputId": "4f9ff65b-6f16-4bcf-eb5b-2c4c9018fa67"
      },
      "execution_count": null,
      "outputs": [
        {
          "output_type": "stream",
          "name": "stdout",
          "text": [
            "{'name': 'Heru Stiawan', 'age': 20, 'address': 'Jl. Pemuda, Mojoroto, Kediri', 'tall': 165.5, 'weight': 67, 'education': 'University Nusantara PGRI Kediri', 'major': 'Information Systems', 'NPM': 1912234, 'hobby': ['eat', 'traveling'], 'ambition': ['becomes  a successful person ', 'becomes a useful person'], 'favolit_color': 'red', 'status': 'single'}\n"
          ]
        }
      ]
    },
    {
      "cell_type": "code",
      "source": [
        "biodata.update({\"hobby\": ['eat','traveling','game']})\n",
        "print(biodata)"
      ],
      "metadata": {
        "colab": {
          "base_uri": "https://localhost:8080/"
        },
        "id": "9yBAP66G5u1O",
        "outputId": "bb4c73e0-2105-44ab-e40d-9d391cee1fc0"
      },
      "execution_count": null,
      "outputs": [
        {
          "output_type": "stream",
          "name": "stdout",
          "text": [
            "{'name': 'Heru Stiawan', 'age': 20, 'address': 'Jl. Pemuda, Mojoroto, Kediri', 'tall': 165.5, 'weight': 67, 'education': 'University Nusantara PGRI Kediri', 'major': 'Information Systems', 'NPM': 1912234, 'hobby': ['eat', 'traveling', 'game'], 'ambition': ['becomes  a successful person ', 'becomes a useful person'], 'favolit_color': 'red', 'status': 'single'}\n"
          ]
        }
      ]
    },
    {
      "cell_type": "code",
      "source": [
        "biodata.pop(\"status\")"
      ],
      "metadata": {
        "colab": {
          "base_uri": "https://localhost:8080/",
          "height": 34
        },
        "id": "gABiOj806ViA",
        "outputId": "baf767d6-f833-4651-d989-b07208b4c5a7"
      },
      "execution_count": null,
      "outputs": [
        {
          "output_type": "execute_result",
          "data": {
            "text/plain": [
              "'single'"
            ],
            "application/vnd.google.colaboratory.intrinsic+json": {
              "type": "string"
            }
          },
          "metadata": {},
          "execution_count": 169
        }
      ]
    },
    {
      "cell_type": "code",
      "source": [
        "biodata.popitem()"
      ],
      "metadata": {
        "colab": {
          "base_uri": "https://localhost:8080/"
        },
        "id": "NB6Ear-a6niX",
        "outputId": "e1c72c60-af2e-4490-e7e0-486b1fe67b64"
      },
      "execution_count": null,
      "outputs": [
        {
          "output_type": "execute_result",
          "data": {
            "text/plain": [
              "('favolit_color', 'red')"
            ]
          },
          "metadata": {},
          "execution_count": 170
        }
      ]
    },
    {
      "cell_type": "code",
      "source": [
        "biodata.clear()\n",
        "biodata"
      ],
      "metadata": {
        "colab": {
          "base_uri": "https://localhost:8080/"
        },
        "id": "Yyi54xRY7Hwc",
        "outputId": "adca297e-afee-4222-cf75-d7634d4b6242"
      },
      "execution_count": null,
      "outputs": [
        {
          "output_type": "execute_result",
          "data": {
            "text/plain": [
              "{}"
            ]
          },
          "metadata": {},
          "execution_count": 174
        }
      ]
    }
  ],
  "metadata": {
    "colab": {
      "collapsed_sections": [],
      "name": "Tugas_2_Ds_b.ipynb",
      "provenance": []
    },
    "kernelspec": {
      "display_name": "Python 3",
      "name": "python3"
    },
    "language_info": {
      "name": "python"
    }
  },
  "nbformat": 4,
  "nbformat_minor": 0
}